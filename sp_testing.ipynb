{
 "cells": [
  {
   "cell_type": "code",
   "execution_count": 18,
   "metadata": {},
   "outputs": [],
   "source": [
    "import osmnx as ox\n",
    "import networkx as nx\n",
    "import pandas as pd\n",
    "from geopy.geocoders import Nominatim\n",
    "from shortest_path import ShortestPath"
   ]
  },
  {
   "cell_type": "code",
   "execution_count": 8,
   "metadata": {},
   "outputs": [
    {
     "name": "stdout",
     "output_type": "stream",
     "text": [
      "Adding '1000 Olin Way, Needham, MA' to dictionary.\n",
      "Adding '958 Highland Ave, Needham, MA' to dictionary.\n",
      "Adding 'Medford, MA' to dictionary.\n",
      "MultiDiGraph with 2774 nodes and 7558 edges\n",
      "(42.4184296, -71.1061639)\n",
      "(42.2900134, -71.26080120734075)\n",
      "(42.29196044100191, -71.23527709036975)\n"
     ]
    }
   ],
   "source": [
    "address_list = [\n",
    "    \"1000 Olin Way, Needham, MA\",\n",
    "    \"958 Highland Ave, Needham, MA\",\n",
    "    \"Medford, MA\",\n",
    "]\n",
    "alg = ShortestPath(address_list, 5000)\n",
    "# print(alg.coordinate_dict)\n",
    "olin = address_list[0]\n",
    "tjs = address_list[1]\n",
    "medford = address_list[2]\n",
    "print(alg.coordinate_dict[medford])\n",
    "print(alg.coordinate_dict[olin])\n",
    "print(alg.coordinate_dict[tjs])\n",
    "\n",
    "# Attempting to project the graph\n",
    "locations = [\n",
    "    [\n",
    "        alg.coordinate_dict[medford][0],\n",
    "        alg.coordinate_dict[olin][0],\n",
    "        alg.coordinate_dict[tjs][0],\n",
    "    ],\n",
    "    [\n",
    "        alg.coordinate_dict[medford][1],\n",
    "        alg.coordinate_dict[olin][1],\n",
    "        alg.coordinate_dict[tjs][1],\n",
    "    ],\n",
    "]"
   ]
  },
  {
   "cell_type": "code",
   "execution_count": 23,
   "metadata": {},
   "outputs": [],
   "source": [
    "P = ox.projection.project_graph(alg.graph)\n",
    "nodes = ox.graph_to_gdfs(P, nodes=True)"
   ]
  },
  {
   "cell_type": "code",
   "execution_count": 13,
   "metadata": {},
   "outputs": [
    {
     "name": "stdout",
     "output_type": "stream",
     "text": [
      "[103, 103, 103]\n"
     ]
    }
   ],
   "source": [
    "print(ox.distance.nearest_nodes(P, locations[1], locations[0]))"
   ]
  }
 ],
 "metadata": {
  "kernelspec": {
   "display_name": "py310",
   "language": "python",
   "name": "python3"
  },
  "language_info": {
   "codemirror_mode": {
    "name": "ipython",
    "version": 3
   },
   "file_extension": ".py",
   "mimetype": "text/x-python",
   "name": "python",
   "nbconvert_exporter": "python",
   "pygments_lexer": "ipython3",
   "version": "3.10.13"
  }
 },
 "nbformat": 4,
 "nbformat_minor": 2
}
